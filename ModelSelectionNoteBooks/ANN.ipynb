{
 "cells": [
  {
   "cell_type": "markdown",
   "metadata": {
    "id": "6g9NPuxCZM-6"
   },
   "source": [
    "Import the required Libraries for our problem."
   ]
  },
  {
   "cell_type": "code",
   "execution_count": 1,
   "metadata": {
    "colab": {
     "base_uri": "https://localhost:8080/"
    },
    "executionInfo": {
     "elapsed": 323,
     "status": "ok",
     "timestamp": 1617147952621,
     "user": {
      "displayName": "Khashayar Shahnazari",
      "photoUrl": "",
      "userId": "15300220978873432429"
     },
     "user_tz": 420
    },
    "id": "1PI6t4b5hOh_",
    "outputId": "821197ac-c0bc-4c06-b973-4a48c2a25728"
   },
   "outputs": [
    {
     "name": "stdout",
     "output_type": "stream",
     "text": [
      "/content\n"
     ]
    }
   ],
   "source": [
    "!pwd"
   ]
  },
  {
   "cell_type": "code",
   "execution_count": 2,
   "metadata": {
    "executionInfo": {
     "elapsed": 5000,
     "status": "ok",
     "timestamp": 1617147957309,
     "user": {
      "displayName": "Khashayar Shahnazari",
      "photoUrl": "",
      "userId": "15300220978873432429"
     },
     "user_tz": 420
    },
    "id": "JKb7pg1XYkSN"
   },
   "outputs": [],
   "source": [
    "import pandas as pd\n",
    "import torch\n",
    "from torch import nn\n",
    "import numpy as np\n",
    "\n",
    "from scipy.sparse import lil_matrix\n",
    "from scipy.sparse import hstack\n",
    "from scipy.sparse import coo_matrix\n",
    "\n",
    "from sklearn.model_selection import train_test_split\n",
    "from sklearn.dummy import DummyClassifier\n",
    "import torch.optim as optim"
   ]
  },
  {
   "cell_type": "markdown",
   "metadata": {
    "id": "K4SBAflq6xaZ"
   },
   "source": [
    "Use GPU for our computations"
   ]
  },
  {
   "cell_type": "code",
   "execution_count": 4,
   "metadata": {
    "colab": {
     "base_uri": "https://localhost:8080/"
    },
    "executionInfo": {
     "elapsed": 4995,
     "status": "ok",
     "timestamp": 1617147957315,
     "user": {
      "displayName": "Khashayar Shahnazari",
      "photoUrl": "",
      "userId": "15300220978873432429"
     },
     "user_tz": 420
    },
    "id": "hEg9NqGb6z3y",
    "outputId": "11b80508-c969-4868-cacb-095d15e59134"
   },
   "outputs": [
    {
     "name": "stdout",
     "output_type": "stream",
     "text": [
      "1\n",
      "cuda:0\n"
     ]
    }
   ],
   "source": [
    "print(torch.cuda.device_count())\n",
    "if torch.cuda.is_available():  \n",
    "  dev = \"cuda:0\" \n",
    "else:  \n",
    "  dev = \"cpu\"  \n",
    "device = torch.device(dev)  \n",
    "print(device)"
   ]
  },
  {
   "cell_type": "markdown",
   "metadata": {
    "id": "K2k_IN1nZ4Qh"
   },
   "source": [
    "Import the Data inside"
   ]
  },
  {
   "cell_type": "code",
   "execution_count": 5,
   "metadata": {
    "colab": {
     "base_uri": "https://localhost:8080/",
     "height": 419
    },
    "executionInfo": {
     "elapsed": 40107,
     "status": "ok",
     "timestamp": 1617147992435,
     "user": {
      "displayName": "Khashayar Shahnazari",
      "photoUrl": "",
      "userId": "15300220978873432429"
     },
     "user_tz": 420
    },
    "id": "IKDH4VHGZMO7",
    "outputId": "2f6549ff-b246-4156-b7ae-f60d91936b1d"
   },
   "outputs": [
    {
     "data": {
      "text/html": [
       "<div>\n",
       "<style scoped>\n",
       "    .dataframe tbody tr th:only-of-type {\n",
       "        vertical-align: middle;\n",
       "    }\n",
       "\n",
       "    .dataframe tbody tr th {\n",
       "        vertical-align: top;\n",
       "    }\n",
       "\n",
       "    .dataframe thead th {\n",
       "        text-align: right;\n",
       "    }\n",
       "</style>\n",
       "<table border=\"1\" class=\"dataframe\">\n",
       "  <thead>\n",
       "    <tr style=\"text-align: right;\">\n",
       "      <th></th>\n",
       "      <th>GameID</th>\n",
       "      <th>TimeStamp</th>\n",
       "      <th>GameSEQ</th>\n",
       "      <th>Leavers</th>\n",
       "      <th>RadiantWin</th>\n",
       "      <th>Pick1Rad</th>\n",
       "      <th>Pick2Rad</th>\n",
       "      <th>Pick3Rad</th>\n",
       "      <th>Pick4Rad</th>\n",
       "      <th>Pick5Rad</th>\n",
       "      <th>Pick1Dir</th>\n",
       "      <th>Pick2Dir</th>\n",
       "      <th>Pick3Dir</th>\n",
       "      <th>Pick4Dir</th>\n",
       "      <th>Pick5Dir</th>\n",
       "      <th>skill_level</th>\n",
       "    </tr>\n",
       "  </thead>\n",
       "  <tbody>\n",
       "    <tr>\n",
       "      <th>0</th>\n",
       "      <td>5702035339</td>\n",
       "      <td>1605433074</td>\n",
       "      <td>4795818304</td>\n",
       "      <td>0</td>\n",
       "      <td>1</td>\n",
       "      <td>75</td>\n",
       "      <td>35</td>\n",
       "      <td>68</td>\n",
       "      <td>14</td>\n",
       "      <td>44</td>\n",
       "      <td>101</td>\n",
       "      <td>51</td>\n",
       "      <td>38</td>\n",
       "      <td>67</td>\n",
       "      <td>74</td>\n",
       "      <td>NaN</td>\n",
       "    </tr>\n",
       "    <tr>\n",
       "      <th>1</th>\n",
       "      <td>5702036092</td>\n",
       "      <td>1605433111</td>\n",
       "      <td>4795818235</td>\n",
       "      <td>0</td>\n",
       "      <td>0</td>\n",
       "      <td>22</td>\n",
       "      <td>41</td>\n",
       "      <td>6</td>\n",
       "      <td>9</td>\n",
       "      <td>26</td>\n",
       "      <td>39</td>\n",
       "      <td>36</td>\n",
       "      <td>93</td>\n",
       "      <td>31</td>\n",
       "      <td>85</td>\n",
       "      <td>NaN</td>\n",
       "    </tr>\n",
       "    <tr>\n",
       "      <th>2</th>\n",
       "      <td>5702039715</td>\n",
       "      <td>1605433280</td>\n",
       "      <td>4795818283</td>\n",
       "      <td>1</td>\n",
       "      <td>0</td>\n",
       "      <td>21</td>\n",
       "      <td>26</td>\n",
       "      <td>84</td>\n",
       "      <td>102</td>\n",
       "      <td>8</td>\n",
       "      <td>14</td>\n",
       "      <td>71</td>\n",
       "      <td>129</td>\n",
       "      <td>47</td>\n",
       "      <td>18</td>\n",
       "      <td>NaN</td>\n",
       "    </tr>\n",
       "    <tr>\n",
       "      <th>3</th>\n",
       "      <td>5702041041</td>\n",
       "      <td>1605433346</td>\n",
       "      <td>4795848331</td>\n",
       "      <td>0</td>\n",
       "      <td>0</td>\n",
       "      <td>26</td>\n",
       "      <td>67</td>\n",
       "      <td>79</td>\n",
       "      <td>42</td>\n",
       "      <td>35</td>\n",
       "      <td>21</td>\n",
       "      <td>104</td>\n",
       "      <td>1</td>\n",
       "      <td>119</td>\n",
       "      <td>10</td>\n",
       "      <td>NaN</td>\n",
       "    </tr>\n",
       "    <tr>\n",
       "      <th>4</th>\n",
       "      <td>5702041315</td>\n",
       "      <td>1605433377</td>\n",
       "      <td>4795818256</td>\n",
       "      <td>1</td>\n",
       "      <td>1</td>\n",
       "      <td>12</td>\n",
       "      <td>22</td>\n",
       "      <td>2</td>\n",
       "      <td>128</td>\n",
       "      <td>79</td>\n",
       "      <td>25</td>\n",
       "      <td>93</td>\n",
       "      <td>98</td>\n",
       "      <td>75</td>\n",
       "      <td>41</td>\n",
       "      <td>NaN</td>\n",
       "    </tr>\n",
       "    <tr>\n",
       "      <th>...</th>\n",
       "      <td>...</td>\n",
       "      <td>...</td>\n",
       "      <td>...</td>\n",
       "      <td>...</td>\n",
       "      <td>...</td>\n",
       "      <td>...</td>\n",
       "      <td>...</td>\n",
       "      <td>...</td>\n",
       "      <td>...</td>\n",
       "      <td>...</td>\n",
       "      <td>...</td>\n",
       "      <td>...</td>\n",
       "      <td>...</td>\n",
       "      <td>...</td>\n",
       "      <td>...</td>\n",
       "      <td>...</td>\n",
       "    </tr>\n",
       "    <tr>\n",
       "      <th>16913394</th>\n",
       "      <td>5782875527</td>\n",
       "      <td>1610421230</td>\n",
       "      <td>4869157490</td>\n",
       "      <td>1</td>\n",
       "      <td>0</td>\n",
       "      <td>88</td>\n",
       "      <td>75</td>\n",
       "      <td>54</td>\n",
       "      <td>78</td>\n",
       "      <td>23</td>\n",
       "      <td>85</td>\n",
       "      <td>76</td>\n",
       "      <td>32</td>\n",
       "      <td>70</td>\n",
       "      <td>114</td>\n",
       "      <td>NaN</td>\n",
       "    </tr>\n",
       "    <tr>\n",
       "      <th>16913395</th>\n",
       "      <td>5782876220</td>\n",
       "      <td>1610421300</td>\n",
       "      <td>4869155380</td>\n",
       "      <td>1</td>\n",
       "      <td>1</td>\n",
       "      <td>20</td>\n",
       "      <td>40</td>\n",
       "      <td>8</td>\n",
       "      <td>63</td>\n",
       "      <td>77</td>\n",
       "      <td>9</td>\n",
       "      <td>5</td>\n",
       "      <td>14</td>\n",
       "      <td>1</td>\n",
       "      <td>60</td>\n",
       "      <td>NaN</td>\n",
       "    </tr>\n",
       "    <tr>\n",
       "      <th>16913396</th>\n",
       "      <td>5782878555</td>\n",
       "      <td>1610421525</td>\n",
       "      <td>4869149137</td>\n",
       "      <td>1</td>\n",
       "      <td>0</td>\n",
       "      <td>31</td>\n",
       "      <td>26</td>\n",
       "      <td>98</td>\n",
       "      <td>54</td>\n",
       "      <td>126</td>\n",
       "      <td>27</td>\n",
       "      <td>103</td>\n",
       "      <td>13</td>\n",
       "      <td>8</td>\n",
       "      <td>32</td>\n",
       "      <td>3.0</td>\n",
       "    </tr>\n",
       "    <tr>\n",
       "      <th>16913397</th>\n",
       "      <td>5782879828</td>\n",
       "      <td>1610421645</td>\n",
       "      <td>4869156196</td>\n",
       "      <td>1</td>\n",
       "      <td>0</td>\n",
       "      <td>129</td>\n",
       "      <td>30</td>\n",
       "      <td>41</td>\n",
       "      <td>11</td>\n",
       "      <td>68</td>\n",
       "      <td>104</td>\n",
       "      <td>101</td>\n",
       "      <td>32</td>\n",
       "      <td>31</td>\n",
       "      <td>106</td>\n",
       "      <td>2.0</td>\n",
       "    </tr>\n",
       "    <tr>\n",
       "      <th>16913398</th>\n",
       "      <td>5782879865</td>\n",
       "      <td>1610421626</td>\n",
       "      <td>4869157731</td>\n",
       "      <td>0</td>\n",
       "      <td>1</td>\n",
       "      <td>14</td>\n",
       "      <td>61</td>\n",
       "      <td>77</td>\n",
       "      <td>13</td>\n",
       "      <td>33</td>\n",
       "      <td>110</td>\n",
       "      <td>105</td>\n",
       "      <td>93</td>\n",
       "      <td>36</td>\n",
       "      <td>23</td>\n",
       "      <td>NaN</td>\n",
       "    </tr>\n",
       "  </tbody>\n",
       "</table>\n",
       "<p>16913399 rows × 16 columns</p>\n",
       "</div>"
      ],
      "text/plain": [
       "              GameID   TimeStamp     GameSEQ  ...  Pick4Dir  Pick5Dir  skill_level\n",
       "0         5702035339  1605433074  4795818304  ...        67        74          NaN\n",
       "1         5702036092  1605433111  4795818235  ...        31        85          NaN\n",
       "2         5702039715  1605433280  4795818283  ...        47        18          NaN\n",
       "3         5702041041  1605433346  4795848331  ...       119        10          NaN\n",
       "4         5702041315  1605433377  4795818256  ...        75        41          NaN\n",
       "...              ...         ...         ...  ...       ...       ...          ...\n",
       "16913394  5782875527  1610421230  4869157490  ...        70       114          NaN\n",
       "16913395  5782876220  1610421300  4869155380  ...         1        60          NaN\n",
       "16913396  5782878555  1610421525  4869149137  ...         8        32          3.0\n",
       "16913397  5782879828  1610421645  4869156196  ...        31       106          2.0\n",
       "16913398  5782879865  1610421626  4869157731  ...        36        23          NaN\n",
       "\n",
       "[16913399 rows x 16 columns]"
      ]
     },
     "execution_count": 5,
     "metadata": {
      "tags": []
     },
     "output_type": "execute_result"
    }
   ],
   "source": [
    "df = pd.read_csv('/content/drive/MyDrive/dota_games.csv')\n",
    "df"
   ]
  },
  {
   "cell_type": "markdown",
   "metadata": {
    "id": "Uc1IDavFabRJ"
   },
   "source": [
    "Filter out games that have no leavers. Games with Leavers=0"
   ]
  },
  {
   "cell_type": "code",
   "execution_count": 6,
   "metadata": {
    "colab": {
     "base_uri": "https://localhost:8080/",
     "height": 419
    },
    "executionInfo": {
     "elapsed": 40799,
     "status": "ok",
     "timestamp": 1617147993135,
     "user": {
      "displayName": "Khashayar Shahnazari",
      "photoUrl": "",
      "userId": "15300220978873432429"
     },
     "user_tz": 420
    },
    "id": "8w98eNbPaUt-",
    "outputId": "047121d9-8701-484a-f81c-759a267c041e"
   },
   "outputs": [
    {
     "data": {
      "text/html": [
       "<div>\n",
       "<style scoped>\n",
       "    .dataframe tbody tr th:only-of-type {\n",
       "        vertical-align: middle;\n",
       "    }\n",
       "\n",
       "    .dataframe tbody tr th {\n",
       "        vertical-align: top;\n",
       "    }\n",
       "\n",
       "    .dataframe thead th {\n",
       "        text-align: right;\n",
       "    }\n",
       "</style>\n",
       "<table border=\"1\" class=\"dataframe\">\n",
       "  <thead>\n",
       "    <tr style=\"text-align: right;\">\n",
       "      <th></th>\n",
       "      <th>GameID</th>\n",
       "      <th>TimeStamp</th>\n",
       "      <th>GameSEQ</th>\n",
       "      <th>Leavers</th>\n",
       "      <th>RadiantWin</th>\n",
       "      <th>Pick1Rad</th>\n",
       "      <th>Pick2Rad</th>\n",
       "      <th>Pick3Rad</th>\n",
       "      <th>Pick4Rad</th>\n",
       "      <th>Pick5Rad</th>\n",
       "      <th>Pick1Dir</th>\n",
       "      <th>Pick2Dir</th>\n",
       "      <th>Pick3Dir</th>\n",
       "      <th>Pick4Dir</th>\n",
       "      <th>Pick5Dir</th>\n",
       "      <th>skill_level</th>\n",
       "    </tr>\n",
       "  </thead>\n",
       "  <tbody>\n",
       "    <tr>\n",
       "      <th>0</th>\n",
       "      <td>5702035339</td>\n",
       "      <td>1605433074</td>\n",
       "      <td>4795818304</td>\n",
       "      <td>0</td>\n",
       "      <td>1</td>\n",
       "      <td>75</td>\n",
       "      <td>35</td>\n",
       "      <td>68</td>\n",
       "      <td>14</td>\n",
       "      <td>44</td>\n",
       "      <td>101</td>\n",
       "      <td>51</td>\n",
       "      <td>38</td>\n",
       "      <td>67</td>\n",
       "      <td>74</td>\n",
       "      <td>NaN</td>\n",
       "    </tr>\n",
       "    <tr>\n",
       "      <th>1</th>\n",
       "      <td>5702036092</td>\n",
       "      <td>1605433111</td>\n",
       "      <td>4795818235</td>\n",
       "      <td>0</td>\n",
       "      <td>0</td>\n",
       "      <td>22</td>\n",
       "      <td>41</td>\n",
       "      <td>6</td>\n",
       "      <td>9</td>\n",
       "      <td>26</td>\n",
       "      <td>39</td>\n",
       "      <td>36</td>\n",
       "      <td>93</td>\n",
       "      <td>31</td>\n",
       "      <td>85</td>\n",
       "      <td>NaN</td>\n",
       "    </tr>\n",
       "    <tr>\n",
       "      <th>3</th>\n",
       "      <td>5702041041</td>\n",
       "      <td>1605433346</td>\n",
       "      <td>4795848331</td>\n",
       "      <td>0</td>\n",
       "      <td>0</td>\n",
       "      <td>26</td>\n",
       "      <td>67</td>\n",
       "      <td>79</td>\n",
       "      <td>42</td>\n",
       "      <td>35</td>\n",
       "      <td>21</td>\n",
       "      <td>104</td>\n",
       "      <td>1</td>\n",
       "      <td>119</td>\n",
       "      <td>10</td>\n",
       "      <td>NaN</td>\n",
       "    </tr>\n",
       "    <tr>\n",
       "      <th>6</th>\n",
       "      <td>5702044125</td>\n",
       "      <td>1605433531</td>\n",
       "      <td>4795863372</td>\n",
       "      <td>0</td>\n",
       "      <td>1</td>\n",
       "      <td>54</td>\n",
       "      <td>26</td>\n",
       "      <td>105</td>\n",
       "      <td>85</td>\n",
       "      <td>113</td>\n",
       "      <td>86</td>\n",
       "      <td>5</td>\n",
       "      <td>70</td>\n",
       "      <td>60</td>\n",
       "      <td>75</td>\n",
       "      <td>NaN</td>\n",
       "    </tr>\n",
       "    <tr>\n",
       "      <th>7</th>\n",
       "      <td>5702044805</td>\n",
       "      <td>1605433556</td>\n",
       "      <td>4795853616</td>\n",
       "      <td>0</td>\n",
       "      <td>1</td>\n",
       "      <td>79</td>\n",
       "      <td>31</td>\n",
       "      <td>67</td>\n",
       "      <td>97</td>\n",
       "      <td>21</td>\n",
       "      <td>64</td>\n",
       "      <td>107</td>\n",
       "      <td>104</td>\n",
       "      <td>6</td>\n",
       "      <td>126</td>\n",
       "      <td>NaN</td>\n",
       "    </tr>\n",
       "    <tr>\n",
       "      <th>...</th>\n",
       "      <td>...</td>\n",
       "      <td>...</td>\n",
       "      <td>...</td>\n",
       "      <td>...</td>\n",
       "      <td>...</td>\n",
       "      <td>...</td>\n",
       "      <td>...</td>\n",
       "      <td>...</td>\n",
       "      <td>...</td>\n",
       "      <td>...</td>\n",
       "      <td>...</td>\n",
       "      <td>...</td>\n",
       "      <td>...</td>\n",
       "      <td>...</td>\n",
       "      <td>...</td>\n",
       "      <td>...</td>\n",
       "    </tr>\n",
       "    <tr>\n",
       "      <th>16913388</th>\n",
       "      <td>5782874424</td>\n",
       "      <td>1610421130</td>\n",
       "      <td>4869157247</td>\n",
       "      <td>0</td>\n",
       "      <td>1</td>\n",
       "      <td>64</td>\n",
       "      <td>21</td>\n",
       "      <td>28</td>\n",
       "      <td>54</td>\n",
       "      <td>46</td>\n",
       "      <td>25</td>\n",
       "      <td>7</td>\n",
       "      <td>77</td>\n",
       "      <td>1</td>\n",
       "      <td>59</td>\n",
       "      <td>NaN</td>\n",
       "    </tr>\n",
       "    <tr>\n",
       "      <th>16913389</th>\n",
       "      <td>5782874452</td>\n",
       "      <td>1610421125</td>\n",
       "      <td>4869156928</td>\n",
       "      <td>0</td>\n",
       "      <td>1</td>\n",
       "      <td>3</td>\n",
       "      <td>100</td>\n",
       "      <td>63</td>\n",
       "      <td>54</td>\n",
       "      <td>120</td>\n",
       "      <td>123</td>\n",
       "      <td>64</td>\n",
       "      <td>29</td>\n",
       "      <td>1</td>\n",
       "      <td>11</td>\n",
       "      <td>3.0</td>\n",
       "    </tr>\n",
       "    <tr>\n",
       "      <th>16913391</th>\n",
       "      <td>5782874747</td>\n",
       "      <td>1610421160</td>\n",
       "      <td>4869156248</td>\n",
       "      <td>0</td>\n",
       "      <td>1</td>\n",
       "      <td>21</td>\n",
       "      <td>27</td>\n",
       "      <td>2</td>\n",
       "      <td>44</td>\n",
       "      <td>61</td>\n",
       "      <td>87</td>\n",
       "      <td>107</td>\n",
       "      <td>67</td>\n",
       "      <td>71</td>\n",
       "      <td>48</td>\n",
       "      <td>3.0</td>\n",
       "    </tr>\n",
       "    <tr>\n",
       "      <th>16913393</th>\n",
       "      <td>5782875467</td>\n",
       "      <td>1610421194</td>\n",
       "      <td>4869156483</td>\n",
       "      <td>0</td>\n",
       "      <td>1</td>\n",
       "      <td>86</td>\n",
       "      <td>87</td>\n",
       "      <td>77</td>\n",
       "      <td>63</td>\n",
       "      <td>59</td>\n",
       "      <td>30</td>\n",
       "      <td>123</td>\n",
       "      <td>6</td>\n",
       "      <td>56</td>\n",
       "      <td>23</td>\n",
       "      <td>NaN</td>\n",
       "    </tr>\n",
       "    <tr>\n",
       "      <th>16913398</th>\n",
       "      <td>5782879865</td>\n",
       "      <td>1610421626</td>\n",
       "      <td>4869157731</td>\n",
       "      <td>0</td>\n",
       "      <td>1</td>\n",
       "      <td>14</td>\n",
       "      <td>61</td>\n",
       "      <td>77</td>\n",
       "      <td>13</td>\n",
       "      <td>33</td>\n",
       "      <td>110</td>\n",
       "      <td>105</td>\n",
       "      <td>93</td>\n",
       "      <td>36</td>\n",
       "      <td>23</td>\n",
       "      <td>NaN</td>\n",
       "    </tr>\n",
       "  </tbody>\n",
       "</table>\n",
       "<p>13930628 rows × 16 columns</p>\n",
       "</div>"
      ],
      "text/plain": [
       "              GameID   TimeStamp     GameSEQ  ...  Pick4Dir  Pick5Dir  skill_level\n",
       "0         5702035339  1605433074  4795818304  ...        67        74          NaN\n",
       "1         5702036092  1605433111  4795818235  ...        31        85          NaN\n",
       "3         5702041041  1605433346  4795848331  ...       119        10          NaN\n",
       "6         5702044125  1605433531  4795863372  ...        60        75          NaN\n",
       "7         5702044805  1605433556  4795853616  ...         6       126          NaN\n",
       "...              ...         ...         ...  ...       ...       ...          ...\n",
       "16913388  5782874424  1610421130  4869157247  ...         1        59          NaN\n",
       "16913389  5782874452  1610421125  4869156928  ...         1        11          3.0\n",
       "16913391  5782874747  1610421160  4869156248  ...        71        48          3.0\n",
       "16913393  5782875467  1610421194  4869156483  ...        56        23          NaN\n",
       "16913398  5782879865  1610421626  4869157731  ...        36        23          NaN\n",
       "\n",
       "[13930628 rows x 16 columns]"
      ]
     },
     "execution_count": 6,
     "metadata": {
      "tags": []
     },
     "output_type": "execute_result"
    }
   ],
   "source": [
    "df_no_leavers = df.query('Leavers==0')\n",
    "df_no_leavers"
   ]
  },
  {
   "cell_type": "markdown",
   "metadata": {
    "id": "iwxxafrqcCFS"
   },
   "source": [
    "Separate X and y."
   ]
  },
  {
   "cell_type": "code",
   "execution_count": 7,
   "metadata": {
    "executionInfo": {
     "elapsed": 40922,
     "status": "ok",
     "timestamp": 1617147993265,
     "user": {
      "displayName": "Khashayar Shahnazari",
      "photoUrl": "",
      "userId": "15300220978873432429"
     },
     "user_tz": 420
    },
    "id": "L67uwWjvb-u7"
   },
   "outputs": [],
   "source": [
    "X = df_no_leavers.loc[:,'Pick1Rad':'Pick5Dir']\n",
    "y = df_no_leavers['RadiantWin']\n",
    "\n",
    "df_size = df_no_leavers.shape[0]\n",
    "train_data, vali_data ,  test_data = df_no_leavers.iloc[0:int(df_size*0.85),:] , df_no_leavers.iloc[int(df_size*0.85):int(df_size*0.95),:] , df_no_leavers.iloc[int(df_size*0.95):,:]"
   ]
  },
  {
   "cell_type": "code",
   "execution_count": 8,
   "metadata": {
    "executionInfo": {
     "elapsed": 40919,
     "status": "ok",
     "timestamp": 1617147993266,
     "user": {
      "displayName": "Khashayar Shahnazari",
      "photoUrl": "",
      "userId": "15300220978873432429"
     },
     "user_tz": 420
    },
    "id": "uR2nBQ2M4go2"
   },
   "outputs": [],
   "source": [
    "del df\n",
    "del df_no_leavers"
   ]
  },
  {
   "cell_type": "markdown",
   "metadata": {
    "id": "OrPR_UvyctLe"
   },
   "source": [
    "Build a Dummy classifier for a baseline."
   ]
  },
  {
   "cell_type": "markdown",
   "metadata": {
    "id": "GLP5XFZeJ0OC"
   },
   "source": []
  },
  {
   "cell_type": "code",
   "execution_count": 9,
   "metadata": {
    "colab": {
     "base_uri": "https://localhost:8080/"
    },
    "executionInfo": {
     "elapsed": 42950,
     "status": "ok",
     "timestamp": 1617147995303,
     "user": {
      "displayName": "Khashayar Shahnazari",
      "photoUrl": "",
      "userId": "15300220978873432429"
     },
     "user_tz": 420
    },
    "id": "e7Wp8-gMc0BN",
    "outputId": "8437c736-fe88-4951-b19d-c76f5259f6e3"
   },
   "outputs": [
    {
     "name": "stdout",
     "output_type": "stream",
     "text": [
      "Training accuracy is 0.5357758904987429\n",
      "Testing accuracy is 0.5360385452498952\n"
     ]
    }
   ],
   "source": [
    "dum_model = DummyClassifier(strategy='most_frequent')\n",
    "dum_model.fit(X,y)\n",
    "print(f'Training accuracy is {dum_model.score(None,train_data[\"RadiantWin\"])}')\n",
    "print(f'Testing accuracy is {dum_model.score(None,test_data[\"RadiantWin\"])}')"
   ]
  },
  {
   "cell_type": "markdown",
   "metadata": {
    "id": "r1Gvi7WLHEoT"
   },
   "source": [
    "Data Loader"
   ]
  },
  {
   "cell_type": "code",
   "execution_count": 10,
   "metadata": {
    "executionInfo": {
     "elapsed": 42947,
     "status": "ok",
     "timestamp": 1617147995305,
     "user": {
      "displayName": "Khashayar Shahnazari",
      "photoUrl": "",
      "userId": "15300220978873432429"
     },
     "user_tz": 420
    },
    "id": "5T-cBJvmHGQX"
   },
   "outputs": [],
   "source": [
    "from torch.utils.data import DataLoader,Dataset\n",
    "import random\n",
    "\n",
    "class game_datasets(Dataset):\n",
    "\n",
    "  def __init__(self,rawdata):\n",
    "    X = rawdata.loc[:,'Pick1Rad':'Pick5Dir']\n",
    "    y = rawdata['RadiantWin']\n",
    "    self.x = torch.tensor(X.values)\n",
    "    self.y = torch.tensor(y.values)\n",
    "\n",
    "  def __getitem__(self,index):\n",
    "    return self.x[index],self.y[index]\n",
    "    \n",
    "  def __len__(self):\n",
    "    return len(self.y)"
   ]
  },
  {
   "cell_type": "markdown",
   "metadata": {
    "id": "LBM4jl5uFuH3"
   },
   "source": [
    "Transform every batch of information and also add games for earlier picks"
   ]
  },
  {
   "cell_type": "code",
   "execution_count": 11,
   "metadata": {
    "executionInfo": {
     "elapsed": 42945,
     "status": "ok",
     "timestamp": 1617147995307,
     "user": {
      "displayName": "Khashayar Shahnazari",
      "photoUrl": "",
      "userId": "15300220978873432429"
     },
     "user_tz": 420
    },
    "id": "KLXtAPC6FtLs"
   },
   "outputs": [],
   "source": [
    "def game_datasets_transform_X(data_X,mode=None,device=\"cpu\"):\n",
    "  # If mode is none only the 10 picks are added.\n",
    "  # If mode is equal to 10 all possible combinations are added aswell.\n",
    "  # If mode is either 1,2,3,4,5 the picks with those scenarios are only added.\n",
    "\n",
    "  if mode is not None:\n",
    "    picks = data_X.t()\n",
    "    picks = picks.to(device)\n",
    "    #1st picks\n",
    "    picks_rad = torch.zeros(data_X.shape[0],150,device=device)\n",
    "    picks_rad[range(picks_rad.shape[0]), picks[0]] = -1\n",
    "    picks_dire = torch.zeros(data_X.shape[0],150,device=device)\n",
    "    picks_dire[range(picks_dire.shape[0]), picks[5]] = 1\n",
    "    if mode==10:\n",
    "      res = torch.cat([picks_rad,picks_dire],dim=0) \n",
    "    if mode==1:\n",
    "      return torch.cat([picks_rad,picks_dire],dim=0) \n",
    "\n",
    "    #2nd picks\n",
    "    picks_rad[range(picks_rad.shape[0]), picks[1]] = -1\n",
    "    picks_dire[range(picks_dire.shape[0]), picks[6]] = 1\n",
    "    if mode==10:\n",
    "      res = torch.cat([res,picks_rad,picks_dire],dim=0)\n",
    "    if mode==2:\n",
    "      return torch.cat([picks_rad,picks_dire],dim=0) \n",
    "\n",
    "    #3rd picks\n",
    "    picks_rad[range(picks_rad.shape[0]), picks[5:7]] = 1\n",
    "    picks_dire[range(picks_dire.shape[0]), picks[0:2]] = -1\n",
    "\n",
    "    picks_rad[range(picks_rad.shape[0]), picks[2]] = -1\n",
    "    picks_dire[range(picks_dire.shape[0]), picks[7]] = 1\n",
    "    if mode==10:\n",
    "      res = torch.cat([res,picks_rad,picks_dire],dim=0)\n",
    "    if mode==3:\n",
    "      return torch.cat([picks_rad,picks_dire],dim=0)  \n",
    "\n",
    "    #4th picks\n",
    "    picks_rad[range(picks_rad.shape[0]), picks[3]] = -1\n",
    "    picks_dire[range(picks_dire.shape[0]), picks[8]] = 1\n",
    "    if mode==10:\n",
    "      res = torch.cat([res,picks_rad,picks_dire],dim=0)\n",
    "    if mode==4:\n",
    "      return torch.cat([picks_rad,picks_dire],dim=0)\n",
    "\n",
    "    #5th picks\n",
    "    picks_rad[range(picks_rad.shape[0]), picks[7:9]] = 1\n",
    "    picks_dire[range(picks_dire.shape[0]), picks[2:4]] = -1\n",
    "\n",
    "    picks_rad[range(picks_rad.shape[0]), picks[4]] = -1\n",
    "    picks_dire[range(picks_dire.shape[0]), picks[9]] = 1\n",
    "    if mode==10:\n",
    "      res = torch.cat([res,picks_rad,picks_dire],dim=0)\n",
    "    if mode==5:\n",
    "      return torch.cat([picks_rad,picks_dire],dim=0)\n",
    "\n",
    "    #All picks (Only for mode 10)\n",
    "    picks_rad[range(picks_rad.shape[0]), picks[9]] = 1\n",
    "    res = torch.cat([res,picks_rad],dim=0) \n",
    "    return res\n",
    "  \n",
    "  else:\n",
    "    picks = data_X.t()\n",
    "    picks = picks.to(device)\n",
    "    picks_all = torch.zeros(data_X.shape[0],150,device=device)\n",
    "    picks_all[range(picks_all.shape[0]), picks[0:5]]= -1\n",
    "    picks_all[range(picks_all.shape[0]), picks[5:10]]= 1\n",
    "    return picks_all"
   ]
  },
  {
   "cell_type": "markdown",
   "metadata": {
    "id": "2gb1Lk7YrhkY"
   },
   "source": [
    "Also Y must be transformed to match X transformation if mode is anythig either that None"
   ]
  },
  {
   "cell_type": "code",
   "execution_count": 12,
   "metadata": {
    "executionInfo": {
     "elapsed": 42942,
     "status": "ok",
     "timestamp": 1617147995309,
     "user": {
      "displayName": "Khashayar Shahnazari",
      "photoUrl": "",
      "userId": "15300220978873432429"
     },
     "user_tz": 420
    },
    "id": "DVpw7FTrroUp"
   },
   "outputs": [],
   "source": [
    "def game_datasets_transform_Y(data_Y,mode=None):\n",
    "  #y_trans = []\n",
    "  if mode==None:\n",
    "    return data_Y\n",
    "  \n",
    "  y = data_Y.numpy()\n",
    "  #for i, y in enumerate(data_Y.numpy()):\n",
    "  if mode <10:\n",
    "    # y_trans.append(y)\n",
    "    # y_trans.append(y)\n",
    "    res = np.tile(y,2)\n",
    "  else:\n",
    "    res = np.tile(y,11)\n",
    "    # res = np.concatenate([y,y])\n",
    "    # for _ in range(10):\n",
    "    # #  y_trans.append(y)\n",
    "    #   res = np.concatenate([res,y])\n",
    "        \n",
    "  return torch.tensor(res)"
   ]
  },
  {
   "cell_type": "markdown",
   "metadata": {
    "id": "kBurLuuaauXv"
   },
   "source": [
    "Define Model:"
   ]
  },
  {
   "cell_type": "code",
   "execution_count": null,
   "metadata": {
    "id": "2m03JNiIaxVq"
   },
   "outputs": [],
   "source": [
    "import torch.nn.functional as F\n",
    "from torch import nn \n",
    "\n",
    "class GamePredictor(nn.Module):\n",
    "    def __init__(self,n1,n2):\n",
    "        super().__init__()\n",
    "        self.l1 = nn.Linear(150, n1)\n",
    "        self.l2 = nn.Linear(n1, n2)\n",
    "        self.l3 = nn.Linear(n2,1)\n",
    "    \n",
    "    def forward(self, x):\n",
    "        # Pass the input tensor through each of our operations\n",
    "        x = F.relu(self.l1(x))\n",
    "        x = F.relu(self.l2(x))\n",
    "        x = self.l3(x)\n",
    "        return torch.sigmoid(x)"
   ]
  },
  {
   "cell_type": "markdown",
   "metadata": {
    "id": "-ZXbCNLye_nI"
   },
   "source": [
    "Train Model (No Games Generated):"
   ]
  },
  {
   "cell_type": "code",
   "execution_count": null,
   "metadata": {
    "colab": {
     "base_uri": "https://localhost:8080/"
    },
    "executionInfo": {
     "elapsed": 370936,
     "status": "ok",
     "timestamp": 1617004329870,
     "user": {
      "displayName": "Khashayar Shahnazari",
      "photoUrl": "",
      "userId": "15300220978873432429"
     },
     "user_tz": 420
    },
    "id": "ayC_1KX2YZuT",
    "outputId": "9443b457-0dd2-4e13-cfc6-16805b5e97f9"
   },
   "outputs": [
    {
     "name": "stdout",
     "output_type": "stream",
     "text": [
      "Done Training\n",
      "Done Training\n",
      "Done Training\n",
      "Done Training\n",
      "Done Training\n"
     ]
    }
   ],
   "source": [
    "import torch.optim as optim\n",
    "\n",
    "net = GamePredictor(100,100).to(device)\n",
    "net.train()\n",
    "\n",
    "optimizer = optim.Adam(net.parameters(), lr=0.001)\n",
    "\n",
    "Epochs = 5\n",
    "\n",
    "for epoch in range(0,Epochs):\n",
    "  train_data_set = game_datasets(train_data)\n",
    "  train_data_loader = DataLoader(train_data_set,batch_size=10000)\n",
    "  train_data_iter = iter(train_data_loader)\n",
    "  for data in train_data_iter:\n",
    "    x,y = data\n",
    "    net.zero_grad()\n",
    "    x = game_datasets_transform_X(x)\n",
    "    x = x.view(-1,150).float()\n",
    "    y = y.view(-1,1).float()\n",
    "    x = x.to(device)\n",
    "    y = y.to(device)\n",
    "    output = net(x)\n",
    "    loss_func = nn.MSELoss()\n",
    "    loss = loss_func(output,y)\n",
    "    loss.backward()\n",
    "    optimizer.step()\n",
    "  print('Done Training')"
   ]
  },
  {
   "cell_type": "markdown",
   "metadata": {
    "id": "8oFsqz6QhyZy"
   },
   "source": [
    "Accuracy on Training"
   ]
  },
  {
   "cell_type": "code",
   "execution_count": null,
   "metadata": {
    "colab": {
     "base_uri": "https://localhost:8080/"
    },
    "executionInfo": {
     "elapsed": 685549,
     "status": "ok",
     "timestamp": 1610944935572,
     "user": {
      "displayName": "Khashayar Shahnazari",
      "photoUrl": "",
      "userId": "15300220978873432429"
     },
     "user_tz": 480
    },
    "id": "3ZJaB7ZBhxuT",
    "outputId": "afb7b80b-a88d-4116-e3a0-ba51e5641efd"
   },
   "outputs": [
    {
     "name": "stdout",
     "output_type": "stream",
     "text": [
      "tensor(6774663, device='cuda:0')\n",
      "11841033\n",
      "tensor(57.2134, device='cuda:0')\n"
     ]
    }
   ],
   "source": [
    "net.eval()\n",
    "\n",
    "train_data_set = game_datasets(train_data)\n",
    "train_data_loader = DataLoader(train_data_set,batch_size=10000)\n",
    "train_data_iter = iter(train_data_loader)\n",
    "\n",
    "correct = 0\n",
    "total = 0\n",
    "with torch.no_grad():\n",
    "  for data in train_data_iter:\n",
    "    x,y = data\n",
    "    x = game_datasets_transform_X(x)  \n",
    "    x = x.view(-1,150).float()\n",
    "    y = y.view(-1,1).float()\n",
    "    x = x.to(device)\n",
    "    y = y.to(device)\n",
    "    output = net(x)\n",
    "\n",
    "    # Code below this is faster because\n",
    "    # It's using numpy syntax\n",
    "\n",
    "    # for idx,pred in enumerate(output):\n",
    "    #   if pred<=0.5:\n",
    "    #     res = 0\n",
    "    #   else:\n",
    "    #     res = 1\n",
    "    #   if res==y[idx]:\n",
    "    #     correct +=1\n",
    "    #   total +=1\n",
    "\n",
    "    res = output.clone().detach()\n",
    "    res[res<=0.5] = 0\n",
    "    res[res>0.5] = 1\n",
    "    correct += torch.sum(res==y)\n",
    "    total += len(output)\n",
    "    \n",
    "print(correct)\n",
    "print(total)\n",
    "print(correct/total * 100)"
   ]
  },
  {
   "cell_type": "markdown",
   "metadata": {
    "id": "APAlSuQGiBDe"
   },
   "source": [
    "Accuracy on Validation"
   ]
  },
  {
   "cell_type": "code",
   "execution_count": null,
   "metadata": {
    "colab": {
     "base_uri": "https://localhost:8080/"
    },
    "executionInfo": {
     "elapsed": 697959,
     "status": "ok",
     "timestamp": 1610944947987,
     "user": {
      "displayName": "Khashayar Shahnazari",
      "photoUrl": "",
      "userId": "15300220978873432429"
     },
     "user_tz": 480
    },
    "id": "pneqLYF0cOO8",
    "outputId": "8b9e6d03-9ff5-4650-bb75-95bd52c9365c"
   },
   "outputs": [
    {
     "name": "stdout",
     "output_type": "stream",
     "text": [
      "tensor(811244, device='cuda:0')\n",
      "1393063\n",
      "tensor(58.2346, device='cuda:0')\n"
     ]
    }
   ],
   "source": [
    "net.eval()\n",
    "\n",
    "test_data_set = game_datasets(vali_data)\n",
    "test_data_loader = DataLoader(test_data_set,batch_size=10000)\n",
    "test_data_iter = iter(test_data_loader)\n",
    "\n",
    "correct = 0\n",
    "total = 0\n",
    "with torch.no_grad():\n",
    "  for data in test_data_iter:\n",
    "    x,y = data\n",
    "    x = game_datasets_transform_X(x)\n",
    "    x = x.view(-1,150).float()\n",
    "    y = y.view(-1,1).float()\n",
    "    x = x.to(device)\n",
    "    y = y.to(device)\n",
    "    output = net(x)\n",
    "    res = output.clone().detach()\n",
    "    res[res<=0.5] = 0\n",
    "    res[res>0.5] = 1\n",
    "    correct += torch.sum(res==y)\n",
    "    total += len(output)\n",
    "print(correct)\n",
    "print(total)\n",
    "print(correct/total * 100)"
   ]
  },
  {
   "cell_type": "markdown",
   "metadata": {
    "id": "IWK3Y4JSn9LX"
   },
   "source": [
    "Now Let's Try adding All possible games and see if it effects the training score of all ten picks"
   ]
  },
  {
   "cell_type": "code",
   "execution_count": null,
   "metadata": {
    "colab": {
     "base_uri": "https://localhost:8080/"
    },
    "executionInfo": {
     "elapsed": 823950,
     "status": "ok",
     "timestamp": 1610945073984,
     "user": {
      "displayName": "Khashayar Shahnazari",
      "photoUrl": "",
      "userId": "15300220978873432429"
     },
     "user_tz": 480
    },
    "id": "FUnJukj7rGGu",
    "outputId": "a3ccbd14-a3a9-4b8a-d895-8241c89782ff"
   },
   "outputs": [
    {
     "name": "stdout",
     "output_type": "stream",
     "text": [
      "Done Training\n"
     ]
    }
   ],
   "source": [
    "import torch.optim as optim\n",
    "\n",
    "torch.manual_seed(1000)\n",
    "net = GamePredictor(50,50).to(device)\n",
    "net.train()\n",
    "\n",
    "optimizer = optim.Adam(net.parameters(), lr=0.001)\n",
    "\n",
    "Epochs = 1 \n",
    "\n",
    "for epoch in range(0,Epochs):\n",
    "  train_data_set = game_datasets(train_data)\n",
    "  train_data_loader = DataLoader(train_data_set,batch_size=10000)\n",
    "  train_data_iter = iter(train_data_loader)\n",
    "  del train_data_set\n",
    "  del train_data_loader\n",
    "  for data in train_data_iter:\n",
    "    x,y = data\n",
    "    net.zero_grad()\n",
    "    x = game_datasets_transform_X(x,10,device)\n",
    "    y = game_datasets_transform_Y(y,10)\n",
    "    x = x.view(-1,150).float()\n",
    "    y = y.view(-1,1).float()\n",
    "    x = x.to(device)\n",
    "    y = y.to(device)\n",
    "    output = net(x)\n",
    "    loss_func = nn.MSELoss()\n",
    "    loss = loss_func(output,y)\n",
    "    loss.backward()\n",
    "    optimizer.step()\n",
    "  print('Done Training')\n",
    "  del train_data_iter\n",
    "\n",
    " "
   ]
  },
  {
   "cell_type": "code",
   "execution_count": null,
   "metadata": {
    "colab": {
     "base_uri": "https://localhost:8080/"
    },
    "executionInfo": {
     "elapsed": 921478,
     "status": "ok",
     "timestamp": 1610945171523,
     "user": {
      "displayName": "Khashayar Shahnazari",
      "photoUrl": "",
      "userId": "15300220978873432429"
     },
     "user_tz": 480
    },
    "id": "NtXOrHe5rPAi",
    "outputId": "07d14410-6bf7-4741-db35-8d37e7c2a1f2"
   },
   "outputs": [
    {
     "name": "stdout",
     "output_type": "stream",
     "text": [
      "tensor(6587373, device='cuda:0')\n",
      "11841033\n",
      "tensor(55.6317, device='cuda:0')\n"
     ]
    }
   ],
   "source": [
    "torch.manual_seed(1000)\n",
    "net.eval()\n",
    "\n",
    "train_data_set = game_datasets(train_data)\n",
    "train_data_loader = DataLoader(train_data_set,batch_size=10000)\n",
    "train_data_iter = iter(train_data_loader)\n",
    "\n",
    "correct = 0\n",
    "total = 0\n",
    "with torch.no_grad():\n",
    "  for data in train_data_iter:\n",
    "    x,y = data\n",
    "    x = game_datasets_transform_X(x,None,device)\n",
    "    x = x.view(-1,150).float()\n",
    "    y = y.view(-1,1).float()\n",
    "    x = x.to(device)\n",
    "    y = y.to(device)\n",
    "    output = net(x)\n",
    "    res = output.clone().detach()\n",
    "    res[res<=0.5] = 0\n",
    "    res[res>0.5] = 1\n",
    "    correct += torch.sum(res==y)\n",
    "    total += len(output)\n",
    "    \n",
    "print(correct)\n",
    "print(total)\n",
    "print(correct/total * 100)"
   ]
  },
  {
   "cell_type": "markdown",
   "metadata": {
    "id": "Vkaq47txw6OX"
   },
   "source": [
    "Now For The Big part Let's See if we could increase the score by tweaking things. First to do this we need to have an altair chart of the accuracies within a function"
   ]
  },
  {
   "cell_type": "code",
   "execution_count": null,
   "metadata": {
    "id": "Y91G_P2wxLPB"
   },
   "outputs": [],
   "source": [
    "def showaccs(net,test_data,device='cpu'):\n",
    "  picks = []\n",
    "  acc = []\n",
    "  for i in range(1,6):\n",
    "    net.eval()\n",
    "    test_data_set = game_datasets(test_data)\n",
    "    test_data_loader = DataLoader(test_data_set,batch_size=100000)\n",
    "    test_data_iter = iter(test_data_loader)\n",
    "    del test_data_set\n",
    "    del test_data_loader\n",
    "    correct = 0\n",
    "    total = 0\n",
    "    with torch.no_grad():\n",
    "      for data in test_data_iter:\n",
    "        x,y = data\n",
    "        x = game_datasets_transform_X(x,i,device)\n",
    "        y = game_datasets_transform_Y(y,i)   \n",
    "        x = x.view(-1,150).float()\n",
    "        y = y.view(-1,1).float()\n",
    "        x = x.to(device)\n",
    "        y = y.to(device)\n",
    "        output = net(x)\n",
    "        res = output.clone().detach()\n",
    "        res[res<=0.5] = 0\n",
    "        res[res>0.5] = 1\n",
    "        correct += torch.sum(res==y)\n",
    "        total += len(output)\n",
    "    picks.append(i)\n",
    "    acc.append(correct/total * 100)\n",
    "  chart_data = pd.DataFrame({'pick_numbers':picks,'accuracy':acc})\n",
    "  final_acc = (acc[0] + 1.5*acc[1] + 3*acc[2] + 4*acc[3] + 7*acc[4]) / 16.5 \n",
    "  return final_acc,chart_data"
   ]
  },
  {
   "cell_type": "code",
   "execution_count": null,
   "metadata": {
    "id": "Xh9jttM0ymCG"
   },
   "outputs": [],
   "source": [
    "res = (showaccs(net,vali_data,device))"
   ]
  },
  {
   "cell_type": "code",
   "execution_count": null,
   "metadata": {
    "colab": {
     "base_uri": "https://localhost:8080/"
    },
    "executionInfo": {
     "elapsed": 997780,
     "status": "ok",
     "timestamp": 1610945247856,
     "user": {
      "displayName": "Khashayar Shahnazari",
      "photoUrl": "",
      "userId": "15300220978873432429"
     },
     "user_tz": 480
    },
    "id": "_zTbECLGy94J",
    "outputId": "e7bb8dc0-fcc6-44d3-f548-0eadf43c89b3"
   },
   "outputs": [
    {
     "name": "stdout",
     "output_type": "stream",
     "text": [
      "(tensor(55.7744, device='cuda:0'),    pick_numbers                          accuracy\n",
      "0             1  tensor(53.7368, device='cuda:0')\n",
      "1             2  tensor(54.0942, device='cuda:0')\n",
      "2             3  tensor(55.2084, device='cuda:0')\n",
      "3             4  tensor(55.6363, device='cuda:0')\n",
      "4             5  tensor(56.7470, device='cuda:0'))\n"
     ]
    }
   ],
   "source": [
    "print(res)"
   ]
  },
  {
   "cell_type": "markdown",
   "metadata": {
    "id": "K_rP2Eu6bI1P"
   },
   "source": [
    "Now let's try to increase the accuracy. Challenge: Increase Score by 1%! "
   ]
  },
  {
   "cell_type": "markdown",
   "metadata": {
    "id": "goCIlXu-fBfU"
   },
   "source": [
    "First things first let's do a fast hyperparameter optimization with 3 epochs and see how much the score could be improved."
   ]
  },
  {
   "cell_type": "code",
   "execution_count": null,
   "metadata": {
    "colab": {
     "base_uri": "https://localhost:8080/"
    },
    "executionInfo": {
     "elapsed": 6971939,
     "status": "ok",
     "timestamp": 1610951222024,
     "user": {
      "displayName": "Khashayar Shahnazari",
      "photoUrl": "",
      "userId": "15300220978873432429"
     },
     "user_tz": 480
    },
    "id": "U0HD__e6bPmY",
    "outputId": "e2438927-7a4a-445a-8e71-6f636e40da30"
   },
   "outputs": [
    {
     "name": "stdout",
     "output_type": "stream",
     "text": [
      "Done Training\n",
      "For number of neurons of 20 and epoch number 0 the score is 55.65016174316406\n",
      "Done Training\n",
      "For number of neurons of 20 and epoch number 1 the score is 55.596221923828125\n",
      "Done Training\n",
      "For number of neurons of 20 and epoch number 2 the score is 55.56934356689453\n",
      "Done Training\n",
      "For number of neurons of 30 and epoch number 0 the score is 55.6831169128418\n",
      "Done Training\n",
      "For number of neurons of 30 and epoch number 1 the score is 55.63380813598633\n",
      "Done Training\n",
      "For number of neurons of 30 and epoch number 2 the score is 55.604759216308594\n",
      "Done Training\n",
      "For number of neurons of 40 and epoch number 0 the score is 55.64600372314453\n",
      "Done Training\n",
      "For number of neurons of 40 and epoch number 1 the score is 55.61870574951172\n",
      "Done Training\n",
      "For number of neurons of 40 and epoch number 2 the score is 55.614036560058594\n",
      "Done Training\n",
      "For number of neurons of 50 and epoch number 0 the score is 55.70673751831055\n",
      "Done Training\n",
      "For number of neurons of 50 and epoch number 1 the score is 55.674034118652344\n",
      "Done Training\n",
      "For number of neurons of 50 and epoch number 2 the score is 55.62784957885742\n",
      "Done Training\n",
      "For number of neurons of 60 and epoch number 0 the score is 55.67146301269531\n",
      "Done Training\n",
      "For number of neurons of 60 and epoch number 1 the score is 55.63051223754883\n",
      "Done Training\n",
      "For number of neurons of 60 and epoch number 2 the score is 55.59245681762695\n",
      "Done Training\n",
      "For number of neurons of 70 and epoch number 0 the score is 55.70176696777344\n",
      "Done Training\n",
      "For number of neurons of 70 and epoch number 1 the score is 55.70343017578125\n",
      "Done Training\n",
      "For number of neurons of 70 and epoch number 2 the score is 55.6707763671875\n",
      "Done Training\n",
      "For number of neurons of 80 and epoch number 0 the score is 55.704769134521484\n",
      "Done Training\n",
      "For number of neurons of 80 and epoch number 1 the score is 55.673404693603516\n",
      "Done Training\n",
      "For number of neurons of 80 and epoch number 2 the score is 55.628108978271484\n",
      "Done Training\n",
      "For number of neurons of 90 and epoch number 0 the score is 55.703067779541016\n",
      "Done Training\n",
      "For number of neurons of 90 and epoch number 1 the score is 55.70353698730469\n",
      "Done Training\n",
      "For number of neurons of 90 and epoch number 2 the score is 55.67425537109375\n",
      "Done Training\n",
      "For number of neurons of 100 and epoch number 0 the score is 55.70787811279297\n",
      "Done Training\n",
      "For number of neurons of 100 and epoch number 1 the score is 55.72069549560547\n",
      "Done Training\n",
      "For number of neurons of 100 and epoch number 2 the score is 55.70381164550781\n"
     ]
    }
   ],
   "source": [
    "neuron = [20,30,40,50,60,70,80,90,100]\n",
    "\n",
    "for n in neuron:\n",
    "  torch.manual_seed(1000)\n",
    "  net = GamePredictor(n,n).to(device)\n",
    "  net.train()\n",
    "\n",
    "  optimizer = optim.Adam(net.parameters(), lr=0.001)\n",
    "\n",
    "  Epochs = 3\n",
    "\n",
    "  for epoch in range(0,Epochs):\n",
    "    train_data_set = game_datasets(train_data)\n",
    "    train_data_loader = DataLoader(train_data_set,batch_size=100000)\n",
    "    train_data_iter = iter(train_data_loader)\n",
    "    del train_data_set\n",
    "    for data in train_data_iter:\n",
    "      x,y = data\n",
    "      net.zero_grad()\n",
    "      x = game_datasets_transform_X(x,10,device)\n",
    "      y = game_datasets_transform_Y(y,10)\n",
    "      x = x.view(-1,150).float()\n",
    "      y = y.view(-1,1).float()\n",
    "      x = x.to(device)\n",
    "      y = y.to(device)\n",
    "      output = net(x)\n",
    "      loss_func = nn.BCELoss()\n",
    "      loss = loss_func(output,y)\n",
    "      loss.backward()\n",
    "      optimizer.step()\n",
    "    print('Done Training')\n",
    "    res = (showaccs(net,vali_data,device))\n",
    "    print(f\"For number of neurons of {n} and epoch number {epoch} the score is {res[0]}\")\n",
    " "
   ]
  },
  {
   "cell_type": "code",
   "execution_count": null,
   "metadata": {
    "colab": {
     "base_uri": "https://localhost:8080/"
    },
    "id": "68AxOQPus41R",
    "outputId": "da988211-cd80-4000-83ef-eeae93700002"
   },
   "outputs": [
    {
     "name": "stdout",
     "output_type": "stream",
     "text": [
      "Done Training\n",
      "Loss is 81.74137878417969\n",
      "epoch number 0 the validation accuracy is 54.79117202758789\n",
      "epoch number 0 the validation accuracy is 55.70673751831055\n",
      "Done Training\n",
      "Loss is 81.63037872314453\n",
      "epoch number 1 the validation accuracy is 55.010536193847656\n",
      "epoch number 1 the validation accuracy is 55.674034118652344\n",
      "Done Training\n",
      "Loss is 81.62556457519531\n",
      "epoch number 2 the validation accuracy is 55.09693908691406\n",
      "epoch number 2 the validation accuracy is 55.62784957885742\n",
      "Done Training\n",
      "Loss is 81.62619018554688\n",
      "epoch number 3 the validation accuracy is 55.15245819091797\n",
      "epoch number 3 the validation accuracy is 55.591094970703125\n",
      "Done Training\n",
      "Loss is 81.62263488769531\n",
      "epoch number 4 the validation accuracy is 55.19149398803711\n",
      "epoch number 4 the validation accuracy is 55.56679153442383\n",
      "Done Training\n",
      "Loss is 81.61612701416016\n",
      "epoch number 5 the validation accuracy is 55.21190643310547\n",
      "epoch number 5 the validation accuracy is 55.5654182434082\n",
      "Done Training\n",
      "Loss is 81.61026000976562\n",
      "epoch number 6 the validation accuracy is 55.236793518066406\n",
      "epoch number 6 the validation accuracy is 55.5558967590332\n",
      "Done Training\n",
      "Loss is 81.60237121582031\n",
      "epoch number 7 the validation accuracy is 55.24909210205078\n",
      "epoch number 7 the validation accuracy is 55.58092498779297\n",
      "Done Training\n",
      "Loss is 81.59526824951172\n",
      "epoch number 8 the validation accuracy is 55.27729034423828\n",
      "epoch number 8 the validation accuracy is 55.57683181762695\n",
      "Done Training\n",
      "Loss is 81.5804443359375\n",
      "epoch number 9 the validation accuracy is 55.20537567138672\n",
      "epoch number 9 the validation accuracy is 55.63652801513672\n",
      "Done Training\n",
      "Loss is 81.58360290527344\n",
      "epoch number 10 the validation accuracy is 55.250606536865234\n",
      "epoch number 10 the validation accuracy is 55.62678146362305\n",
      "Done Training\n",
      "Loss is 81.5740966796875\n",
      "epoch number 11 the validation accuracy is 55.271949768066406\n",
      "epoch number 11 the validation accuracy is 55.63722229003906\n",
      "Done Training\n",
      "Loss is 81.56707000732422\n",
      "epoch number 12 the validation accuracy is 55.28928756713867\n",
      "epoch number 12 the validation accuracy is 55.65437316894531\n",
      "Done Training\n",
      "Loss is 81.56204223632812\n",
      "epoch number 13 the validation accuracy is 55.31309509277344\n",
      "epoch number 13 the validation accuracy is 55.659027099609375\n",
      "Done Training\n",
      "Loss is 81.54910278320312\n",
      "epoch number 14 the validation accuracy is 55.29848861694336\n",
      "epoch number 14 the validation accuracy is 55.69758987426758\n",
      "Done Training\n",
      "Loss is 81.54207611083984\n",
      "epoch number 15 the validation accuracy is 55.303775787353516\n",
      "epoch number 15 the validation accuracy is 55.715885162353516\n",
      "Done Training\n",
      "Loss is 81.53656768798828\n",
      "epoch number 16 the validation accuracy is 55.323486328125\n",
      "epoch number 16 the validation accuracy is 55.730167388916016\n",
      "Done Training\n",
      "Loss is 81.52897644042969\n",
      "epoch number 17 the validation accuracy is 55.34151077270508\n",
      "epoch number 17 the validation accuracy is 55.73814392089844\n",
      "Done Training\n",
      "Loss is 81.52152252197266\n",
      "epoch number 18 the validation accuracy is 55.34233093261719\n",
      "epoch number 18 the validation accuracy is 55.73423385620117\n",
      "Done Training\n",
      "Loss is 81.513671875\n",
      "epoch number 19 the validation accuracy is 55.32170867919922\n",
      "epoch number 19 the validation accuracy is 55.7441291809082\n",
      "Done Training\n",
      "Loss is 81.50714111328125\n",
      "epoch number 20 the validation accuracy is 55.31889343261719\n",
      "epoch number 20 the validation accuracy is 55.767364501953125\n",
      "Done Training\n",
      "Loss is 81.50526428222656\n",
      "epoch number 21 the validation accuracy is 55.34354782104492\n",
      "epoch number 21 the validation accuracy is 55.7843132019043\n",
      "Done Training\n",
      "Loss is 81.50157928466797\n",
      "epoch number 22 the validation accuracy is 55.377105712890625\n",
      "epoch number 22 the validation accuracy is 55.807395935058594\n",
      "Done Training\n",
      "Loss is 81.49552917480469\n",
      "epoch number 23 the validation accuracy is 55.39667892456055\n",
      "epoch number 23 the validation accuracy is 55.82612228393555\n",
      "Done Training\n",
      "Loss is 81.48908996582031\n",
      "epoch number 24 the validation accuracy is 55.391143798828125\n",
      "epoch number 24 the validation accuracy is 55.84492111206055\n",
      "Done Training\n",
      "Loss is 81.48545837402344\n",
      "epoch number 25 the validation accuracy is 55.385902404785156\n",
      "epoch number 25 the validation accuracy is 55.85533905029297\n",
      "Done Training\n",
      "Loss is 81.48383331298828\n",
      "epoch number 26 the validation accuracy is 55.375431060791016\n",
      "epoch number 26 the validation accuracy is 55.865169525146484\n",
      "Done Training\n",
      "Loss is 81.48102569580078\n",
      "epoch number 27 the validation accuracy is 55.37144470214844\n",
      "epoch number 27 the validation accuracy is 55.878143310546875\n",
      "Done Training\n",
      "Loss is 81.47941589355469\n",
      "epoch number 28 the validation accuracy is 55.38199996948242\n",
      "epoch number 28 the validation accuracy is 55.87743377685547\n",
      "Done Training\n",
      "Loss is 81.4762954711914\n",
      "epoch number 29 the validation accuracy is 55.374778747558594\n",
      "epoch number 29 the validation accuracy is 55.885765075683594\n",
      "Done Training\n",
      "Loss is 81.47549438476562\n",
      "epoch number 30 the validation accuracy is 55.37807846069336\n",
      "epoch number 30 the validation accuracy is 55.88906478881836\n",
      "Done Training\n",
      "Loss is 81.47547912597656\n",
      "epoch number 31 the validation accuracy is 55.39617156982422\n",
      "epoch number 31 the validation accuracy is 55.889217376708984\n",
      "Done Training\n",
      "Loss is 81.47595977783203\n",
      "epoch number 32 the validation accuracy is 55.421852111816406\n",
      "epoch number 32 the validation accuracy is 55.88529968261719\n",
      "Done Training\n",
      "Loss is 81.47421264648438\n",
      "epoch number 33 the validation accuracy is 55.44161605834961\n",
      "epoch number 33 the validation accuracy is 55.8802604675293\n",
      "Done Training\n",
      "Loss is 81.47223663330078\n",
      "epoch number 34 the validation accuracy is 55.455322265625\n",
      "epoch number 34 the validation accuracy is 55.8848991394043\n",
      "Done Training\n",
      "Loss is 81.47020721435547\n",
      "epoch number 35 the validation accuracy is 55.46800994873047\n",
      "epoch number 35 the validation accuracy is 55.886322021484375\n",
      "Done Training\n",
      "Loss is 81.46810150146484\n",
      "epoch number 36 the validation accuracy is 55.4786376953125\n",
      "epoch number 36 the validation accuracy is 55.88538360595703\n",
      "Done Training\n",
      "Loss is 81.46536254882812\n"
     ]
    }
   ],
   "source": [
    "torch.manual_seed(1000)\n",
    "net = GamePredictor(50,50).to(device)\n",
    "net.train()\n",
    "\n",
    "optimizer = optim.Adam(net.parameters(), lr=0.001)\n",
    "\n",
    "Epochs = 100\n",
    "\n",
    "for epoch in range(0,Epochs):\n",
    "  tot_loss = 0\n",
    "  train_data_set = game_datasets(train_data)\n",
    "  train_data_loader = DataLoader(train_data_set,batch_size=100000)\n",
    "  train_data_iter = iter(train_data_loader)\n",
    "  del train_data_set\n",
    "  for data in train_data_iter:\n",
    "    x,y = data\n",
    "    net.zero_grad()\n",
    "    x = game_datasets_transform_X(x,10,device)\n",
    "    y = game_datasets_transform_Y(y,10)\n",
    "    x = x.view(-1,150).float()\n",
    "    y = y.view(-1,1).float()\n",
    "    x = x.to(device)\n",
    "    y = y.to(device)\n",
    "    output = net(x)\n",
    "    loss_func = nn.BCELoss()\n",
    "    loss = loss_func(output,y)\n",
    "    tot_loss += loss\n",
    "    loss.backward()\n",
    "    optimizer.step()\n",
    "  print('Done Training')\n",
    "  print(f'Loss is {tot_loss}')\n",
    "  res = (showaccs(net,train_data,device))\n",
    "  print(f\"epoch number {epoch} the validation accuracy is {res[0]}\")\n",
    "  res = (showaccs(net,vali_data,device))\n",
    "  print(f\"epoch number {epoch} the validation accuracy is {res[0]}\")"
   ]
  },
  {
   "cell_type": "markdown",
   "metadata": {
    "id": "rHBFfjrm0nsT"
   },
   "source": [
    "It looks like a bigger model has a higher accuracy but not by much. We Let's explore a model with only one layer see if the accuracy is almost the same or not"
   ]
  },
  {
   "cell_type": "code",
   "execution_count": null,
   "metadata": {
    "colab": {
     "background_save": true,
     "base_uri": "https://localhost:8080/"
    },
    "id": "qY3ueL6N02jI",
    "outputId": "40240e18-1980-404b-9e91-782bf7a4a2e6"
   },
   "outputs": [
    {
     "name": "stdout",
     "output_type": "stream",
     "text": [
      "Done Training\n",
      "For number of neurons of 10 and epoch number 0 the score is 55.56721496582031\n",
      "Done Training\n",
      "For number of neurons of 10 and epoch number 1 the score is 55.56437301635742\n",
      "Done Training\n",
      "For number of neurons of 10 and epoch number 2 the score is 55.544464111328125\n",
      "Done Training\n",
      "For number of neurons of 20 and epoch number 0 the score is 55.50821304321289\n",
      "Done Training\n",
      "For number of neurons of 20 and epoch number 1 the score is 55.54490280151367\n",
      "Done Training\n",
      "For number of neurons of 20 and epoch number 2 the score is 55.53725814819336\n",
      "Done Training\n",
      "For number of neurons of 30 and epoch number 0 the score is 55.515380859375\n",
      "Done Training\n",
      "For number of neurons of 30 and epoch number 1 the score is 55.553897857666016\n",
      "Done Training\n",
      "For number of neurons of 30 and epoch number 2 the score is 55.550140380859375\n",
      "Done Training\n",
      "For number of neurons of 40 and epoch number 0 the score is 55.673866271972656\n",
      "Done Training\n",
      "For number of neurons of 40 and epoch number 1 the score is 55.62961196899414\n",
      "Done Training\n",
      "For number of neurons of 40 and epoch number 2 the score is 55.599456787109375\n",
      "Done Training\n",
      "For number of neurons of 50 and epoch number 0 the score is 55.660430908203125\n",
      "Done Training\n",
      "For number of neurons of 50 and epoch number 1 the score is 55.64253616333008\n",
      "Done Training\n",
      "For number of neurons of 50 and epoch number 2 the score is 55.62521743774414\n",
      "Done Training\n",
      "For number of neurons of 60 and epoch number 0 the score is 55.6390380859375\n",
      "Done Training\n",
      "For number of neurons of 60 and epoch number 1 the score is 55.63951873779297\n",
      "Done Training\n",
      "For number of neurons of 60 and epoch number 2 the score is 55.632179260253906\n",
      "Done Training\n",
      "For number of neurons of 70 and epoch number 0 the score is 55.647064208984375\n",
      "Done Training\n",
      "For number of neurons of 70 and epoch number 1 the score is 55.65349197387695\n",
      "Done Training\n",
      "For number of neurons of 70 and epoch number 2 the score is 55.64244079589844\n",
      "Done Training\n",
      "For number of neurons of 80 and epoch number 0 the score is 55.688419342041016\n",
      "Done Training\n",
      "For number of neurons of 80 and epoch number 1 the score is 55.66968536376953\n",
      "Done Training\n",
      "For number of neurons of 80 and epoch number 2 the score is 55.63526916503906\n",
      "Done Training\n",
      "For number of neurons of 90 and epoch number 0 the score is 55.69902420043945\n",
      "Done Training\n",
      "For number of neurons of 90 and epoch number 1 the score is 55.674102783203125\n",
      "Done Training\n",
      "For number of neurons of 90 and epoch number 2 the score is 55.65260314941406\n",
      "Done Training\n",
      "For number of neurons of 100 and epoch number 0 the score is 55.66481399536133\n",
      "Done Training\n",
      "For number of neurons of 100 and epoch number 1 the score is 55.662357330322266\n",
      "Done Training\n",
      "For number of neurons of 100 and epoch number 2 the score is 55.653114318847656\n"
     ]
    }
   ],
   "source": [
    "import torch.nn.functional as F\n",
    "from torch import nn \n",
    "\n",
    "class GamePredictor_one_layer(nn.Module):\n",
    "    def __init__(self,n1):\n",
    "        super().__init__()\n",
    "        self.l1 = nn.Linear(150, n1)\n",
    "  \n",
    "        self.l3 = nn.Linear(n1,1)\n",
    "    \n",
    "    def forward(self, x):\n",
    "        # Pass the input tensor through each of our operations\n",
    "        x = F.relu(self.l1(x))\n",
    "        #x = F.relu(self.l2(x))\n",
    "        x = self.l3(x)\n",
    "        return torch.sigmoid(x)\n",
    "\n",
    "\n",
    "neuron = [10,20,30,40,50,60,70,80,90,100]\n",
    "\n",
    "for n in neuron:\n",
    "  torch.manual_seed(1000)\n",
    "  net = GamePredictor_one_layer(n).to(device)\n",
    "  net.train()\n",
    "\n",
    "  optimizer = optim.Adam(net.parameters(), lr=0.001)\n",
    "\n",
    "  Epochs = 3\n",
    "\n",
    "  for epoch in range(0,Epochs):\n",
    "    train_data_set = game_datasets(train_data)\n",
    "    train_data_loader = DataLoader(train_data_set,batch_size=100000)\n",
    "    train_data_iter = iter(train_data_loader)\n",
    "    for data in train_data_iter:\n",
    "      x,y = data\n",
    "      net.zero_grad()\n",
    "      x = game_datasets_transform_X(x,10,device)\n",
    "      y = game_datasets_transform_Y(y,10)\n",
    "      x = x.view(-1,150).float()\n",
    "      y = y.view(-1,1).float()\n",
    "      x = x.to(device)\n",
    "      y = y.to(device)\n",
    "      output = net(x)\n",
    "      loss_func = nn.BCELoss()\n",
    "      loss = loss_func(output,y)\n",
    "      loss.backward()\n",
    "      optimizer.step()\n",
    "    print('Done Training')\n",
    "    res = (showaccs(net,vali_data,device))\n",
    "    print(f\"For number of neurons of {n} and epoch number {epoch} the score is {res[0]}\")\n",
    " "
   ]
  },
  {
   "cell_type": "markdown",
   "metadata": {
    "id": "CiiPrzkQDI0m"
   },
   "source": [
    "Ok Now we found a good set of hyperparameters. I will later return to this notebook if I see an interest in my model and users willing to use it. The Final model would be 100 neurons, with relu activations and lr=0.001"
   ]
  },
  {
   "cell_type": "markdown",
   "metadata": {
    "id": "bz9RhQjSxZQO"
   },
   "source": [
    "Final model"
   ]
  },
  {
   "cell_type": "code",
   "execution_count": null,
   "metadata": {
    "colab": {
     "background_save": true
    },
    "id": "a-H-jr5NT90u"
   },
   "outputs": [],
   "source": [
    "class GamePredictor_final(nn.Module):\n",
    "    def __init__(self):\n",
    "        super().__init__()\n",
    "        self.l1 = nn.Linear(150, 100)\n",
    "        self.l3 = nn.Linear(100,1)\n",
    "    \n",
    "    def forward(self, x):\n",
    "        # Pass the input tensor through each of our operations\n",
    "        x = F.relu(self.l1(x))\n",
    "        #x = F.relu(self.l2(x))\n",
    "        x = self.l3(x)\n",
    "        return torch.sigmoid(x)"
   ]
  },
  {
   "cell_type": "code",
   "execution_count": null,
   "metadata": {
    "colab": {
     "base_uri": "https://localhost:8080/"
    },
    "executionInfo": {
     "elapsed": 192173,
     "status": "ok",
     "timestamp": 1610958311043,
     "user": {
      "displayName": "Khashayar Shahnazari",
      "photoUrl": "",
      "userId": "15300220978873432429"
     },
     "user_tz": 480
    },
    "id": "Im7OmnI_x_Ez",
    "outputId": "4efa7c0f-e32a-464b-fdf2-861e9204a2be"
   },
   "outputs": [
    {
     "name": "stdout",
     "output_type": "stream",
     "text": [
      "Done Training\n",
      "Done Training\n",
      "Done Training\n"
     ]
    }
   ],
   "source": [
    "import torch.optim as optim\n",
    "\n",
    "torch.manual_seed(1000)\n",
    "net = GamePredictor_final().to(device)\n",
    "net.train()\n",
    "\n",
    "optimizer = optim.Adam(net.parameters(), lr=0.001)\n",
    "\n",
    "Epochs = 3\n",
    "\n",
    "for epoch in range(0,Epochs):\n",
    "  train_data_set = game_datasets(train_data)\n",
    "  train_data_loader = DataLoader(train_data_set,batch_size=100000)\n",
    "  train_data_iter = iter(train_data_loader)\n",
    "  for data in train_data_iter:\n",
    "    x,y = data\n",
    "    net.zero_grad()\n",
    "    x = game_datasets_transform_X(x,10,device)\n",
    "    y = game_datasets_transform_Y(y,10)\n",
    "    x = x.view(-1,150).float()\n",
    "    y = y.view(-1,1).float()\n",
    "    x = x.to(device)\n",
    "    y = y.to(device)\n",
    "    output = net(x)\n",
    "    loss_func = nn.MSELoss()\n",
    "    loss = loss_func(output,y)\n",
    "    loss.backward()\n",
    "    optimizer.step()\n",
    "  print('Done Training')"
   ]
  },
  {
   "cell_type": "markdown",
   "metadata": {
    "id": "NjYDCqHSxu96"
   },
   "source": [
    "Test Score"
   ]
  },
  {
   "cell_type": "code",
   "execution_count": null,
   "metadata": {
    "colab": {
     "base_uri": "https://localhost:8080/"
    },
    "executionInfo": {
     "elapsed": 38152,
     "status": "ok",
     "timestamp": 1610958349189,
     "user": {
      "displayName": "Khashayar Shahnazari",
      "photoUrl": "",
      "userId": "15300220978873432429"
     },
     "user_tz": 480
    },
    "id": "kN8IsU8KxwVe",
    "outputId": "c0ec9bcf-62ab-43b3-dc72-16d16f69d4a2"
   },
   "outputs": [
    {
     "name": "stdout",
     "output_type": "stream",
     "text": [
      "(tensor(55.5896, device='cuda:0'),    pick_numbers                          accuracy\n",
      "0             1  tensor(53.7029, device='cuda:0')\n",
      "1             2  tensor(54.0057, device='cuda:0')\n",
      "2             3  tensor(55.0588, device='cuda:0')\n",
      "3             4  tensor(55.4642, device='cuda:0')\n",
      "4             5  tensor(56.4977, device='cuda:0'))\n"
     ]
    }
   ],
   "source": [
    "res = (showaccs(net,test_data,device))\n",
    "print(res)"
   ]
  },
  {
   "cell_type": "markdown",
   "metadata": {
    "id": "KApKNnnZ1JpY"
   },
   "source": [
    "And Finally Saving the model"
   ]
  },
  {
   "cell_type": "code",
   "execution_count": null,
   "metadata": {
    "colab": {
     "base_uri": "https://localhost:8080/"
    },
    "executionInfo": {
     "elapsed": 376,
     "status": "ok",
     "timestamp": 1610958349555,
     "user": {
      "displayName": "Khashayar Shahnazari",
      "photoUrl": "",
      "userId": "15300220978873432429"
     },
     "user_tz": 480
    },
    "id": "kRm6u95J1u54",
    "outputId": "6fca293b-c1bf-4938-fbf7-93a88b47cf2c"
   },
   "outputs": [
    {
     "name": "stdout",
     "output_type": "stream",
     "text": [
      "/content\n"
     ]
    }
   ],
   "source": [
    "!pwd"
   ]
  },
  {
   "cell_type": "code",
   "execution_count": null,
   "metadata": {
    "id": "0o5n_tKj1LbR"
   },
   "outputs": [],
   "source": [
    "torch.save(net.state_dict(), \"./model\")"
   ]
  },
  {
   "cell_type": "markdown",
   "metadata": {
    "id": "BlH9Fsva86DO"
   },
   "source": [
    "I didn't test the fact that we would train a model for only that number of pick Let's do that and see"
   ]
  },
  {
   "cell_type": "code",
   "execution_count": null,
   "metadata": {
    "colab": {
     "base_uri": "https://localhost:8080/"
    },
    "executionInfo": {
     "elapsed": 2182526,
     "status": "ok",
     "timestamp": 1610961422089,
     "user": {
      "displayName": "Khashayar Shahnazari",
      "photoUrl": "",
      "userId": "15300220978873432429"
     },
     "user_tz": 480
    },
    "id": "rhBkVjI_9AQP",
    "outputId": "5946f58b-947a-4d22-db91-a2c7482e8f71"
   },
   "outputs": [
    {
     "name": "stdout",
     "output_type": "stream",
     "text": [
      "Done Training\n",
      "Done Training\n",
      "Done Training\n",
      "(tensor(54.6454, device='cuda:0'),    pick_numbers                          accuracy\n",
      "0             1  tensor(53.7161, device='cuda:0')\n",
      "1             2  tensor(53.9585, device='cuda:0')\n",
      "2             3  tensor(54.5378, device='cuda:0')\n",
      "3             4  tensor(54.6570, device='cuda:0')\n",
      "4             5  tensor(54.9647, device='cuda:0'))\n",
      "Done Training\n",
      "Done Training\n",
      "Done Training\n",
      "(tensor(55.2463, device='cuda:0'),    pick_numbers                          accuracy\n",
      "0             1  tensor(53.5998, device='cuda:0')\n",
      "1             2  tensor(54.0538, device='cuda:0')\n",
      "2             3  tensor(54.9835, device='cuda:0')\n",
      "3             4  tensor(55.2310, device='cuda:0')\n",
      "4             5  tensor(55.8585, device='cuda:0'))\n",
      "Done Training\n",
      "Done Training\n",
      "Done Training\n",
      "(tensor(55.4791, device='cuda:0'),    pick_numbers                          accuracy\n",
      "0             1  tensor(53.4545, device='cuda:0')\n",
      "1             2  tensor(53.9639, device='cuda:0')\n",
      "2             3  tensor(55.0963, device='cuda:0')\n",
      "3             4  tensor(55.4580, device='cuda:0')\n",
      "4             5  tensor(56.2691, device='cuda:0'))\n",
      "Done Training\n",
      "Done Training\n",
      "Done Training\n",
      "(tensor(55.5246, device='cuda:0'),    pick_numbers                          accuracy\n",
      "0             1  tensor(53.4180, device='cuda:0')\n",
      "1             2  tensor(53.9296, device='cuda:0')\n",
      "2             3  tensor(55.0623, device='cuda:0')\n",
      "3             4  tensor(55.4971, device='cuda:0')\n",
      "4             5  tensor(56.3813, device='cuda:0'))\n",
      "Done Training\n",
      "Done Training\n",
      "Done Training\n",
      "(tensor(55.4777, device='cuda:0'),    pick_numbers                          accuracy\n",
      "0             1  tensor(53.3995, device='cuda:0')\n",
      "1             2  tensor(53.6815, device='cuda:0')\n",
      "2             3  tensor(54.9062, device='cuda:0')\n",
      "3             4  tensor(55.2900, device='cuda:0')\n",
      "4             5  tensor(56.5117, device='cuda:0'))\n"
     ]
    }
   ],
   "source": [
    "import torch.optim as optim\n",
    "\n",
    "for stage in range(1,6):\n",
    "  torch.manual_seed(1000)\n",
    "  net = GamePredictor_final().to(device)\n",
    "  net.train()\n",
    "\n",
    "  optimizer = optim.Adam(net.parameters(), lr=0.001)\n",
    "\n",
    "  Epochs = 3\n",
    "\n",
    "  for epoch in range(0,Epochs):\n",
    "    train_data_set = game_datasets(train_data)\n",
    "    train_data_loader = DataLoader(train_data_set,batch_size=100000)\n",
    "    train_data_iter = iter(train_data_loader)\n",
    "    for data in train_data_iter:\n",
    "      x,y = data\n",
    "      net.zero_grad()\n",
    "      x = game_datasets_transform_X(x,stage,device)\n",
    "      y = game_datasets_transform_Y(y,stage)\n",
    "      x = x.view(-1,150).float()\n",
    "      y = y.view(-1,1).float()\n",
    "      x = x.to(device)\n",
    "      y = y.to(device)\n",
    "      output = net(x)\n",
    "      loss_func = nn.MSELoss()\n",
    "      loss = loss_func(output,y)\n",
    "      loss.backward()\n",
    "      optimizer.step()\n",
    "    print('Done Training')\n",
    "  res = (showaccs(net,test_data,device))\n",
    "  print(res)"
   ]
  },
  {
   "cell_type": "code",
   "execution_count": null,
   "metadata": {
    "colab": {
     "base_uri": "https://localhost:8080/"
    },
    "executionInfo": {
     "elapsed": 38791,
     "status": "ok",
     "timestamp": 1610958754916,
     "user": {
      "displayName": "Khashayar Shahnazari",
      "photoUrl": "",
      "userId": "15300220978873432429"
     },
     "user_tz": 480
    },
    "id": "SkDHXfqb9MXG",
    "outputId": "63a0f9ae-f16f-4073-819e-1e0ee562228e"
   },
   "outputs": [
    {
     "name": "stdout",
     "output_type": "stream",
     "text": [
      "(tensor(54.6454, device='cuda:0'),    pick_numbers                          accuracy\n",
      "0             1  tensor(53.7161, device='cuda:0')\n",
      "1             2  tensor(53.9585, device='cuda:0')\n",
      "2             3  tensor(54.5378, device='cuda:0')\n",
      "3             4  tensor(54.6570, device='cuda:0')\n",
      "4             5  tensor(54.9647, device='cuda:0'))\n"
     ]
    }
   ],
   "source": [
    "res = (showaccs(net,test_data,device))\n",
    "print(res)"
   ]
  },
  {
   "cell_type": "markdown",
   "metadata": {
    "id": "Y_Tt2EXpmfOc"
   },
   "source": [
    "Let's try out Linear regression and see how it does. maybe a more simple model could fit faster than a neural network"
   ]
  },
  {
   "cell_type": "code",
   "execution_count": null,
   "metadata": {
    "colab": {
     "base_uri": "https://localhost:8080/",
     "height": 374
    },
    "executionInfo": {
     "elapsed": 1361,
     "status": "error",
     "timestamp": 1617146950410,
     "user": {
      "displayName": "Khashayar Shahnazari",
      "photoUrl": "",
      "userId": "15300220978873432429"
     },
     "user_tz": 420
    },
    "id": "64gUs_WFmemK",
    "outputId": "9358d3ae-99d7-4f95-a84b-39b14435935f"
   },
   "outputs": [
    {
     "ename": "KeyboardInterrupt",
     "evalue": "ignored",
     "output_type": "error",
     "traceback": [
      "\u001b[0;31m---------------------------------------------------------------------------\u001b[0m",
      "\u001b[0;31mKeyboardInterrupt\u001b[0m                         Traceback (most recent call last)",
      "\u001b[0;32m<ipython-input-19-495fb9d8dc16>\u001b[0m in \u001b[0;36m<module>\u001b[0;34m()\u001b[0m\n\u001b[1;32m     19\u001b[0m       \u001b[0my\u001b[0m \u001b[0;34m=\u001b[0m \u001b[0my\u001b[0m\u001b[0;34m.\u001b[0m\u001b[0mview\u001b[0m\u001b[0;34m(\u001b[0m\u001b[0;34m-\u001b[0m\u001b[0;36m1\u001b[0m\u001b[0;34m,\u001b[0m\u001b[0;36m1\u001b[0m\u001b[0;34m)\u001b[0m\u001b[0;34m.\u001b[0m\u001b[0mfloat\u001b[0m\u001b[0;34m(\u001b[0m\u001b[0;34m)\u001b[0m\u001b[0;34m\u001b[0m\u001b[0;34m\u001b[0m\u001b[0m\n\u001b[1;32m     20\u001b[0m       \u001b[0mx\u001b[0m \u001b[0;34m=\u001b[0m \u001b[0mx\u001b[0m\u001b[0;34m.\u001b[0m\u001b[0mnumpy\u001b[0m\u001b[0;34m(\u001b[0m\u001b[0;34m)\u001b[0m\u001b[0;34m\u001b[0m\u001b[0;34m\u001b[0m\u001b[0m\n\u001b[0;32m---> 21\u001b[0;31m       \u001b[0mx\u001b[0m \u001b[0;34m=\u001b[0m \u001b[0mpoly\u001b[0m\u001b[0;34m.\u001b[0m\u001b[0mfit_transform\u001b[0m\u001b[0;34m(\u001b[0m\u001b[0mx\u001b[0m\u001b[0;34m)\u001b[0m\u001b[0;34m\u001b[0m\u001b[0;34m\u001b[0m\u001b[0m\n\u001b[0m\u001b[1;32m     22\u001b[0m       \u001b[0my\u001b[0m \u001b[0;34m=\u001b[0m \u001b[0my\u001b[0m\u001b[0;34m.\u001b[0m\u001b[0mnumpy\u001b[0m\u001b[0;34m(\u001b[0m\u001b[0;34m)\u001b[0m\u001b[0;34m.\u001b[0m\u001b[0mravel\u001b[0m\u001b[0;34m(\u001b[0m\u001b[0;34m)\u001b[0m\u001b[0;34m\u001b[0m\u001b[0;34m\u001b[0m\u001b[0m\n\u001b[1;32m     23\u001b[0m       \u001b[0msgd_classes\u001b[0m\u001b[0;34m[\u001b[0m\u001b[0mclass_number\u001b[0m\u001b[0;34m]\u001b[0m\u001b[0;34m.\u001b[0m\u001b[0mpartial_fit\u001b[0m\u001b[0;34m(\u001b[0m\u001b[0mx\u001b[0m\u001b[0;34m,\u001b[0m\u001b[0my\u001b[0m\u001b[0;34m,\u001b[0m\u001b[0;34m[\u001b[0m\u001b[0;36m0\u001b[0m\u001b[0;34m,\u001b[0m\u001b[0;36m1\u001b[0m\u001b[0;34m]\u001b[0m\u001b[0;34m)\u001b[0m\u001b[0;34m\u001b[0m\u001b[0;34m\u001b[0m\u001b[0m\n",
      "\u001b[0;32m/usr/local/lib/python3.7/dist-packages/sklearn/base.py\u001b[0m in \u001b[0;36mfit_transform\u001b[0;34m(self, X, y, **fit_params)\u001b[0m\n\u001b[1;32m    569\u001b[0m         \u001b[0;32mif\u001b[0m \u001b[0my\u001b[0m \u001b[0;32mis\u001b[0m \u001b[0;32mNone\u001b[0m\u001b[0;34m:\u001b[0m\u001b[0;34m\u001b[0m\u001b[0;34m\u001b[0m\u001b[0m\n\u001b[1;32m    570\u001b[0m             \u001b[0;31m# fit method of arity 1 (unsupervised transformation)\u001b[0m\u001b[0;34m\u001b[0m\u001b[0;34m\u001b[0m\u001b[0;34m\u001b[0m\u001b[0m\n\u001b[0;32m--> 571\u001b[0;31m             \u001b[0;32mreturn\u001b[0m \u001b[0mself\u001b[0m\u001b[0;34m.\u001b[0m\u001b[0mfit\u001b[0m\u001b[0;34m(\u001b[0m\u001b[0mX\u001b[0m\u001b[0;34m,\u001b[0m \u001b[0;34m**\u001b[0m\u001b[0mfit_params\u001b[0m\u001b[0;34m)\u001b[0m\u001b[0;34m.\u001b[0m\u001b[0mtransform\u001b[0m\u001b[0;34m(\u001b[0m\u001b[0mX\u001b[0m\u001b[0;34m)\u001b[0m\u001b[0;34m\u001b[0m\u001b[0;34m\u001b[0m\u001b[0m\n\u001b[0m\u001b[1;32m    572\u001b[0m         \u001b[0;32melse\u001b[0m\u001b[0;34m:\u001b[0m\u001b[0;34m\u001b[0m\u001b[0;34m\u001b[0m\u001b[0m\n\u001b[1;32m    573\u001b[0m             \u001b[0;31m# fit method of arity 2 (supervised transformation)\u001b[0m\u001b[0;34m\u001b[0m\u001b[0;34m\u001b[0m\u001b[0;34m\u001b[0m\u001b[0m\n",
      "\u001b[0;32m/usr/local/lib/python3.7/dist-packages/sklearn/preprocessing/_data.py\u001b[0m in \u001b[0;36mtransform\u001b[0;34m(self, X)\u001b[0m\n\u001b[1;32m   1633\u001b[0m                                     \u001b[0mX\u001b[0m\u001b[0;34m[\u001b[0m\u001b[0;34m:\u001b[0m\u001b[0;34m,\u001b[0m \u001b[0mfeature_idx\u001b[0m\u001b[0;34m:\u001b[0m\u001b[0mfeature_idx\u001b[0m \u001b[0;34m+\u001b[0m \u001b[0;36m1\u001b[0m\u001b[0;34m]\u001b[0m\u001b[0;34m,\u001b[0m\u001b[0;34m\u001b[0m\u001b[0;34m\u001b[0m\u001b[0m\n\u001b[1;32m   1634\u001b[0m                                     \u001b[0mout\u001b[0m\u001b[0;34m=\u001b[0m\u001b[0mXP\u001b[0m\u001b[0;34m[\u001b[0m\u001b[0;34m:\u001b[0m\u001b[0;34m,\u001b[0m \u001b[0mcurrent_col\u001b[0m\u001b[0;34m:\u001b[0m\u001b[0mnext_col\u001b[0m\u001b[0;34m]\u001b[0m\u001b[0;34m,\u001b[0m\u001b[0;34m\u001b[0m\u001b[0;34m\u001b[0m\u001b[0m\n\u001b[0;32m-> 1635\u001b[0;31m                                     casting='no')\n\u001b[0m\u001b[1;32m   1636\u001b[0m                         \u001b[0mcurrent_col\u001b[0m \u001b[0;34m=\u001b[0m \u001b[0mnext_col\u001b[0m\u001b[0;34m\u001b[0m\u001b[0;34m\u001b[0m\u001b[0m\n\u001b[1;32m   1637\u001b[0m \u001b[0;34m\u001b[0m\u001b[0m\n",
      "\u001b[0;31mKeyboardInterrupt\u001b[0m: "
     ]
    }
   ],
   "source": [
    "from sklearn.linear_model import SGDClassifier\n",
    "from sklearn.preprocessing import PolynomialFeatures\n",
    "\n",
    "Epochs = 1\n",
    "sgd_classes = [SGDClassifier() for i in range(6)]\n",
    "\n",
    "for epoch in range(0,Epochs):\n",
    "  train_data_set = game_datasets(train_data)\n",
    "  train_data_loader = DataLoader(train_data_set,batch_size=20000)\n",
    "  train_data_iter = iter(train_data_loader)\n",
    "  poly = PolynomialFeatures(degree=2)\n",
    "  del train_data_set\n",
    "  for data in train_data_iter:\n",
    "    for class_number in range(1,6):\n",
    "      x,y = data\n",
    "      x = game_datasets_transform_X(x,class_number)\n",
    "      y = game_datasets_transform_Y(y,class_number)\n",
    "      x = x.view(-1,150).float()\n",
    "      y = y.view(-1,1).float()\n",
    "      x = x.numpy()\n",
    "      x = poly.fit_transform(x)\n",
    "      y = y.numpy().ravel()\n",
    "      sgd_classes[class_number].partial_fit(x,y,[0,1])\n",
    "  print('Done Training')"
   ]
  },
  {
   "cell_type": "code",
   "execution_count": null,
   "metadata": {
    "id": "cAtveSCO2kMr"
   },
   "outputs": [],
   "source": [
    "from sklearn.linear_model import SGDClassifier\n",
    "from sklearn.preprocessing import PolynomialFeatures\n",
    "import pickle\n",
    "\n",
    "for i in range(1,6):\n",
    "  pkl_filename = \"/content/drive/MyDrive/models/\" + f\"pickle_model{str(i)}.pkl\"\n",
    "  with open(pkl_filename, 'wb') as file:\n",
    "    pickle.dump(sgd_classes[i], file)"
   ]
  },
  {
   "cell_type": "code",
   "execution_count": 13,
   "metadata": {
    "colab": {
     "base_uri": "https://localhost:8080/"
    },
    "executionInfo": {
     "elapsed": 35318,
     "status": "ok",
     "timestamp": 1617147995461,
     "user": {
      "displayName": "Khashayar Shahnazari",
      "photoUrl": "",
      "userId": "15300220978873432429"
     },
     "user_tz": 420
    },
    "id": "AamdncIlVNif",
    "outputId": "3d2e765b-417c-47f2-c4af-ee2e47af859a"
   },
   "outputs": [
    {
     "name": "stdout",
     "output_type": "stream",
     "text": [
      "/content/drive/MyDrive/models/pickle_model1.pkl\n",
      "/content/drive/MyDrive/models/pickle_model2.pkl\n",
      "/content/drive/MyDrive/models/pickle_model3.pkl\n",
      "/content/drive/MyDrive/models/pickle_model4.pkl\n",
      "/content/drive/MyDrive/models/pickle_model5.pkl\n"
     ]
    }
   ],
   "source": [
    "from sklearn.linear_model import SGDClassifier\n",
    "from sklearn.preprocessing import PolynomialFeatures\n",
    "import pickle\n",
    "\n",
    "sgd_classes = [SGDClassifier() for i in range(6)]\n",
    "\n",
    "for i in range(1,6):\n",
    "  pkl_filename = \"/content/drive/MyDrive/models/\" + f\"pickle_model{str(i)}.pkl\"\n",
    "  print(pkl_filename)\n",
    "  with open(pkl_filename, 'rb') as file:\n",
    "    sgd_classes[i] = pickle.load(file)\n",
    "    "
   ]
  },
  {
   "cell_type": "code",
   "execution_count": null,
   "metadata": {
    "id": "_8uZ0m-g7cSg"
   },
   "outputs": [],
   "source": [
    "def showaccs_linear(sgd_classes,test_data):\n",
    "  picks = []\n",
    "  acc = []\n",
    "  for i in range(1,6):\n",
    "    test_data_set = game_datasets(test_data)\n",
    "    test_data_loader = DataLoader(test_data_set,batch_size=100000)\n",
    "    test_data_iter = iter(test_data_loader)\n",
    "    del test_data_set\n",
    "    del test_data_loader\n",
    "    correct = 0\n",
    "    total = 0\n",
    "    poly = PolynomialFeatures(degree=2)\n",
    "    for data in test_data_iter:\n",
    "      x,y = data\n",
    "      x = game_datasets_transform_X(x,i)\n",
    "      y = game_datasets_transform_Y(y,i)\n",
    "      x = x.view(-1,150).float()\n",
    "      y = y.view(-1,1).float()\n",
    "      x = x.numpy()\n",
    "      print(x)\n",
    "      x = poly.fit_transform(x)\n",
    "      y = y.numpy().ravel()\n",
    "      output = sgd_classes[i].predict(x)\n",
    "      res = output\n",
    "      res[res<=0.5] = 0\n",
    "      res[res>0.5] = 1\n",
    "      correct += np.sum(res==y)\n",
    "      total += len(output)\n",
    "    picks.append(i)\n",
    "    acc.append(correct/total * 100)\n",
    "  chart_data = pd.DataFrame({'pick_numbers':picks,'accuracy':acc})\n",
    "  final_acc = (acc[0] + 1.5*acc[1] + 3*acc[2] + 4*acc[3] + 7*acc[4]) / 16.5 \n",
    "  return final_acc,chart_data"
   ]
  },
  {
   "cell_type": "code",
   "execution_count": null,
   "metadata": {
    "id": "IGrrb63a8zTg"
   },
   "outputs": [],
   "source": [
    "res = (showaccs_linear(sgd_classes,test_data))\n",
    "print(res)"
   ]
  },
  {
   "cell_type": "code",
   "execution_count": 14,
   "metadata": {
    "colab": {
     "base_uri": "https://localhost:8080/"
    },
    "executionInfo": {
     "elapsed": 468599,
     "status": "ok",
     "timestamp": 1617148537591,
     "user": {
      "displayName": "Khashayar Shahnazari",
      "photoUrl": "",
      "userId": "15300220978873432429"
     },
     "user_tz": 420
    },
    "id": "R7ILTbCIfIob",
    "outputId": "516f740b-715f-414a-b0b4-31e6b355625d"
   },
   "outputs": [
    {
     "name": "stdout",
     "output_type": "stream",
     "text": [
      "55.300615743208475    pick_numbers   accuracy\n",
      "0             1  53.692149\n",
      "1             2  53.810880\n",
      "2             3  54.791955\n",
      "3             4  55.156762\n",
      "4             5  56.149825\n"
     ]
    }
   ],
   "source": [
    "picks = []\n",
    "acc = []\n",
    "for i in range(1,6):\n",
    "  test_data_set = game_datasets(test_data)\n",
    "  test_data_loader = DataLoader(test_data_set,batch_size=20000)\n",
    "  test_data_iter = iter(test_data_loader)\n",
    "  del test_data_set\n",
    "  del test_data_loader\n",
    "  correct = 0\n",
    "  total = 0\n",
    "  poly = PolynomialFeatures(degree=2)\n",
    "  for data in test_data_iter:\n",
    "    x,y = data\n",
    "    x = game_datasets_transform_X(x,i)\n",
    "    y = game_datasets_transform_Y(y,i)\n",
    "    x = x.view(-1,150).float()\n",
    "    y = y.view(-1,1).float()\n",
    "    x = x.numpy()\n",
    "    x = poly.fit_transform(x)\n",
    "    y = y.numpy().ravel()\n",
    "    output = sgd_classes[i].predict(x)\n",
    "    res = output\n",
    "    res[res<=0.5] = 0\n",
    "    res[res>0.5] = 1\n",
    "    correct += np.sum(res==y)\n",
    "    total += len(output)\n",
    "  picks.append(i)\n",
    "  acc.append(correct/total * 100)\n",
    "chart_data = pd.DataFrame({'pick_numbers':picks,'accuracy':acc})\n",
    "final_acc = (acc[0] + 1.5*acc[1] + 3*acc[2] + 4*acc[3] + 7*acc[4]) / 16.5 \n",
    "print(final_acc,chart_data)"
   ]
  },
  {
   "cell_type": "code",
   "execution_count": null,
   "metadata": {
    "colab": {
     "base_uri": "https://localhost:8080/"
    },
    "executionInfo": {
     "elapsed": 979,
     "status": "ok",
     "timestamp": 1617003630155,
     "user": {
      "displayName": "Khashayar Shahnazari",
      "photoUrl": "",
      "userId": "15300220978873432429"
     },
     "user_tz": 420
    },
    "id": "IZ2wnhbS7NhC",
    "outputId": "a5f6cc31-c362-4d90-dae6-ce7bd3793460"
   },
   "outputs": [
    {
     "data": {
      "text/plain": [
       "SGDClassifier(alpha=0.0001, average=False, class_weight=None,\n",
       "              early_stopping=False, epsilon=0.1, eta0=0.0, fit_intercept=True,\n",
       "              l1_ratio=0.15, learning_rate='optimal', loss='hinge',\n",
       "              max_iter=1000, n_iter_no_change=5, n_jobs=None, penalty='l2',\n",
       "              power_t=0.5, random_state=None, shuffle=True, tol=0.001,\n",
       "              validation_fraction=0.1, verbose=0, warm_start=False)"
      ]
     },
     "execution_count": 31,
     "metadata": {
      "tags": []
     },
     "output_type": "execute_result"
    }
   ],
   "source": [
    "sgd_classes[2]"
   ]
  }
 ],
 "metadata": {
  "colab": {
   "authorship_tag": "ABX9TyPX963GRG5FcCcp0hlkrqnX",
   "collapsed_sections": [],
   "mount_file_id": "1HgLSi5rjrqcroSZ9bhMBHMZeithbRG3k",
   "name": "Build Model For Dota2 Games.ipynb",
   "provenance": []
  },
  "kernelspec": {
   "display_name": "Python 3",
   "language": "python",
   "name": "python3"
  },
  "language_info": {
   "codemirror_mode": {
    "name": "ipython",
    "version": 3
   },
   "file_extension": ".py",
   "mimetype": "text/x-python",
   "name": "python",
   "nbconvert_exporter": "python",
   "pygments_lexer": "ipython3",
   "version": "3.9.2"
  }
 },
 "nbformat": 4,
 "nbformat_minor": 4
}
